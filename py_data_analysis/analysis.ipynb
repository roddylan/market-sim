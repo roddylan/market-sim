{
 "cells": [
  {
   "cell_type": "code",
   "execution_count": 1,
   "id": "ae115725",
   "metadata": {},
   "outputs": [
    {
     "data": {
      "text/html": [
       "<div>\n",
       "<style scoped>\n",
       "    .dataframe tbody tr th:only-of-type {\n",
       "        vertical-align: middle;\n",
       "    }\n",
       "\n",
       "    .dataframe tbody tr th {\n",
       "        vertical-align: top;\n",
       "    }\n",
       "\n",
       "    .dataframe thead th {\n",
       "        text-align: right;\n",
       "    }\n",
       "</style>\n",
       "<table border=\"1\" class=\"dataframe\">\n",
       "  <thead>\n",
       "    <tr style=\"text-align: right;\">\n",
       "      <th></th>\n",
       "      <th>100.44</th>\n",
       "      <th>100.44.1</th>\n",
       "      <th>100.45</th>\n",
       "      <th>99.38</th>\n",
       "      <th>100.45.1</th>\n",
       "      <th>99.38.1</th>\n",
       "      <th>100.49</th>\n",
       "      <th>100.49.1</th>\n",
       "      <th>99.88</th>\n",
       "      <th>99.6</th>\n",
       "      <th>...</th>\n",
       "      <th>100.2.3</th>\n",
       "      <th>99.49.3</th>\n",
       "      <th>99.33.4</th>\n",
       "      <th>100.07.2</th>\n",
       "      <th>100.01.5</th>\n",
       "      <th>100.01.6</th>\n",
       "      <th>100.21</th>\n",
       "      <th>99.91.2</th>\n",
       "      <th>99.91.3</th>\n",
       "      <th>Unnamed: 299</th>\n",
       "    </tr>\n",
       "  </thead>\n",
       "  <tbody>\n",
       "  </tbody>\n",
       "</table>\n",
       "<p>0 rows × 300 columns</p>\n",
       "</div>"
      ],
      "text/plain": [
       "Empty DataFrame\n",
       "Columns: [100.44, 100.44.1, 100.45, 99.38, 100.45.1, 99.38.1, 100.49, 100.49.1, 99.88, 99.6, 99.35, 100.33, 100.16, 100.16.1, 99.66, 99.63, 100.4, 100.44.2, 100.3, 100.3.1, 100.44.3, 99.78, 99.64, 100.39, 99.64.1, 99.38.2, 99.38.3, 99.34, 99.34.1, 99.34.2, 99.33, 99.69, 99.94, 100.05, 100.05.1, 100.11, 99.56, 100.11.1, 99.49, 100.12, 100.22, 99.49.1, 99.62, 99.3, 100.22.1, 100.33.1, 100.33.2, 99.35.1, 99.35.2, 99.91, 99.3.1, 99.93, 99.29, 99.29.1, 99.29.2, 99.93.1, 100.05.2, 99.32, 99.32.1, 100.1, 99.83, 99.51, 99.51.1, 99.28, 99.27, 99.83.1, 100.02, 100.1.1, 100.17, 100.08, 99.77, 99.61, 99.7, 100.2, 99.61.1, 99.54, 99.54.1, 99.45, 99.45.1, 99.45.2, 99.85, 99.49.2, 99.4, 99.4.1, 99.31, 99.86, 99.27.1, 99.23, 99.22, 99.22.1, 99.22.2, 99.86.1, 99.86.2, 99.92, 99.94.1, 99.4.2, 99.77.1, 99.94.2, 99.58, 99.54.2, ...]\n",
       "Index: []\n",
       "\n",
       "[0 rows x 300 columns]"
      ]
     },
     "execution_count": 1,
     "metadata": {},
     "output_type": "execute_result"
    }
   ],
   "source": [
    "import pandas as pd\n",
    "\n",
    "csv = pd.read_csv(\"../build/output.csv\")"
   ]
  }
 ],
 "metadata": {
  "kernelspec": {
   "display_name": ".venv",
   "language": "python",
   "name": "python3"
  },
  "language_info": {
   "codemirror_mode": {
    "name": "ipython",
    "version": 3
   },
   "file_extension": ".py",
   "mimetype": "text/x-python",
   "name": "python",
   "nbconvert_exporter": "python",
   "pygments_lexer": "ipython3",
   "version": "3.11.12"
  }
 },
 "nbformat": 4,
 "nbformat_minor": 5
}
